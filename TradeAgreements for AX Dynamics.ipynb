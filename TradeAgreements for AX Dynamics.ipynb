{
 "cells": [
  {
   "cell_type": "markdown",
   "metadata": {},
   "source": [
    "# TradeAgreements for AX 7 Currencies"
   ]
  },
  {
   "cell_type": "markdown",
   "metadata": {},
   "source": [
    "* 
    "* 7 currencies (or less if desired)\n",
    "* after new folder created it opens automatically, save all productCatalogExpanded files there\n",
    "* head() to see the first rows\n",
    "* .shape to see the document shape\n",
    "* Price Group naming conv. max 20 char"
   ]
  },
  {
   "cell_type": "code",
   "execution_count": 1,
   "metadata": {},
   "outputs": [],
   "source": [
    "import pandas as pd"
   ]
  },
  {
   "cell_type": "code",
   "execution_count": 2,
   "metadata": {},
   "outputs": [],
   "source": [
    "import os"
   ]
  },
  {
   "cell_type": "code",
   "execution_count": 3,
   "metadata": {},
   "outputs": [],
   "source": [
    "import re"
   ]
  },
  {
   "cell_type": "code",
   "execution_count": 4,
   "metadata": {},
   "outputs": [],
   "source": [
    "import xlsxwriter"
   ]
  },
  {
   "cell_type": "code",
   "execution_count": 5,
   "metadata": {},
   "outputs": [],
   "source": [
    "from datetime import datetime"
   ]
  },
  {
   "cell_type": "code",
   "execution_count": 6,
   "metadata": {},
   "outputs": [],
   "source": [
    "from datetime import timedelta"
   ]
  },
  {
   "cell_type": "code",
   "execution_count": 7,
   "metadata": {},
   "outputs": [],
   "source": [
    "from datetime import date"
   ]
  },
  {
   "cell_type": "code",
   "execution_count": 8,
   "metadata": {},
   "outputs": [],
   "source": [
    "from pathlib import Path"
   ]
  },
  {
   "cell_type": "code",
   "execution_count": 9,
   "metadata": {},
   "outputs": [],
   "source": [
    "import numpy as np"
   ]
  },
  {
   "cell_type": "code",
   "execution_count": 10,
   "metadata": {},
   "outputs": [],
   "source": [
    "import webbrowser"
   ]
  },
  {
   "cell_type": "code",
   "execution_count": 1,
   "metadata": {},
   "outputs": [],
   "source": [
    "os.getcwd()"
   ]
  },
  {
   "cell_type": "markdown",
   "metadata": {},
   "source": [
    "## Create new version directory \n",
    "* Naming convension for version folders: TAs_MONTH YEAR\n",
    "* Naming convension for Trade Agreements: TA_yearCURR-NEW\n",
    "* Naming convension for Price Group Name and Account selection: yearCURR-NEW"
   ]
  },
  {
   "cell_type": "code",
   "execution_count": 12,
   "metadata": {},
   "outputs": [],
   "source": [
    "getmonth = str.upper(datetime.now().strftime('%b'))"
   ]
  },
  {
   "cell_type": "code",
   "execution_count": 13,
   "metadata": {},
   "outputs": [],
   "source": [
    "getyear = datetime.now().strftime('%Y')"
   ]
  },
  {
   "cell_type": "code",
   "execution_count": 14,
   "metadata": {},
   "outputs": [],
   "source": [
    "name_dir = \"TAs_{month} {year}\""
   ]
  },
  {
   "cell_type": "code",
   "execution_count": 15,
   "metadata": {},
   "outputs": [],
   "source": [
    "directory = name_dir.format(year=getyear, month=getmonth)"
   ]
  },
  {
   "cell_type": "code",
   "execution_count": 16,
   "metadata": {},
   "outputs": [],
   "source": [
    "parent_dir = input('Paste your parent dir: ')"
   ]
  },
  {
   "cell_type": "code",
   "execution_count": 17,
   "metadata": {},
   "outputs": [],
   "source": [
    "dir_path = os.path.join(parent_dir, directory)"
   ]
  },
  {
   "cell_type": "code",
   "execution_count": 18,
   "metadata": {},
   "outputs": [],
   "source": [
    "isExist = os.path.exists(dir_path)"
   ]
  },
  {
   "cell_type": "code",
   "execution_count": 19,
   "metadata": {},
   "outputs": [
    {
     "name": "stdout",
     "output_type": "stream",
     "text": [
      "Directory 'TAs_FEB 2023' exists\n"
     ]
    }
   ],
   "source": [
    "if not isExist:\n",
    "    os.makedirs(dir_path)\n",
    "    print(\"Directory '%s' created\" %directory)\n",
    "else:\n",
    "    print(\"Directory '%s' exists\" %directory)"
   ]
  },
  {
   "cell_type": "code",
   "execution_count": 21,
   "metadata": {},
   "outputs": [
    {
     "data": {
      "text/plain": [
       "True"
      ]
     },
     "execution_count": 21,
     "metadata": {},
     "output_type": "execute_result"
    }
   ],
   "source": [
    "webbrowser.open(os.path.realpath(dir_path)) # opens the directory of current working file"
   ]
  },
  {
   "cell_type": "markdown",
   "metadata": {},
   "source": [
    "## Import productCatalogExpanded from \n",
    "* Currency\n",
    "* All\n",
    "* No\n",
    "* No\n",
    "* Download all and copy than all docs from Downloads folder ! **no renaming required ! folder cleans itself !**"
   ]
  },
  {
   "cell_type": "code",
   "execution_count": 26,
   "metadata": {},
   "outputs": [
    {
     "data": {
      "text/plain": [
       "True"
      ]
     },
     "execution_count": 26,
     "metadata": {},
     "output_type": "execute_result"
    }
   ],
   "source": [
    "\n",
    "webbrowser.open_new(input('Paste your URL for data source: ')) "
   ]
  },
  {
   "cell_type": "code",
   "execution_count": 27,
   "metadata": {},
   "outputs": [],
   "source": [
    "def check_currency(file):\n",
    "    '''Check column CURR (currency in the file)\n",
    "    :param file: productCatalogExpnded path\n",
    "    :return curr: checkes column CURR, makes list from set of values, extracts value\n",
    "    :exception: delete files with bad path\n",
    "    >>> check_currency(\"_\")\n",
    "    ['Dollar']'''\n",
    "    try:\n",
    "        df = pd.read_excel(file)\n",
    "        curr = list(set(df['CURR'].values))[0]\n",
    "        curr = curr.replace('Dollar', 'USD').replace('Euro', 'EUR').replace('GBPound', 'GBP').replace('Krona', 'SEK')\n",
    "        return curr\n",
    "    except (IOError, ValueError):\n",
    "        os.remove(file)"
   ]
  },
  {
   "cell_type": "code",
   "execution_count": 2,
   "metadata": {},
   "outputs": [],
   "source": [
    "print(os.listdir(dir_path)) # list of files in newly created folder"
   ]
  },
  {
   "cell_type": "code",
   "execution_count": null,
   "metadata": {},
   "outputs": [],
   "source": [
    "# make order in your directory\n",
    "\n",
    "for files in os.listdir(dir_path):\n",
    "    if files.endswith('.xls'): \n",
    "        curr = check_currency(\"{}\\{}\".format(dir_path, files))\n",
    "        try:\n",
    "            os.rename(\"{}\\{}\".format(dir_path, files), \"{}\\{}productCatalogExpanded.xls\".format(dir_path, curr))\n",
    "            print(\"{}_productCatalogExpanded.xls\".format(curr) + '\\trenamed')\n",
    "        except FileExistsError:\n",
    "            os.remove(\"{}\\{}\".format(dir_path, files))\n",
    "            print(files + '\\tremoved')\n",
    "        except FileNotFoundError:\n",
    "            pass\n"
   ]
  },
  {
   "cell_type": "code",
   "execution_count": 30,
   "metadata": {},
   "outputs": [],
   "source": [
    "class TradeAgreement(pd.DataFrame):\n",
    "    '''Creates instance according to naming convention.'''\n",
    "    def __init__(self, df, *args, **kwargs):\n",
    "        pd.DataFrame.__init__(self, df, *args, **kwargs)\n",
    "        print(\"\\n{}{}-NEW\".format(getyear, list(set(df['CURR'].values))[0]))\n",
    "        \n",
    "    def select(self): # selects relevant columns\n",
    "        self = self[['PARTNUM', 'QTYAMOUNT', 'VOLUMEPRICE', 'CURR']]\n",
    "        self['charity'] = self.apply(lambda _: '', axis=1)\n",
    "        self['charity'] = self[['PARTNUM', 'QTYAMOUNT']].agg(''.join, axis=1)\n",
    "        self = self.drop_duplicates(subset=['charity'])\n",
    "        self = self[self['VOLUMEPRICE'] != 0]\n",
    "        self['VOLUMEPRICE'] = self['VOLUMEPRICE'].round(2)\n",
    "        return self\n",
    "        \n",
    "    def set_columns(self): # creates columns for TAs and inserts static values\n",
    "        self['Price/discount journal number'] = self.apply(lambda _: '', axis=1)\n",
    "        self['Line number'] = self.apply(lambda _: '', axis=1)\n",
    "        self.index.name = 'Line number'\n",
    "        self['Relation'] = 'Price (sales)'\n",
    "        self['Account code'] = 'Group'\n",
    "        self['Account selection'] = self.apply(lambda _: '', axis=1)\n",
    "        self['Item code'] = 'Table'\n",
    "        self['Item relation'] = self.apply(lambda _: '', axis=1)\n",
    "        self['Configuration'] = self.apply(lambda _: '', axis=1)\n",
    "        self['Site'] = self.apply(lambda _: '', axis=1)\n",
    "        self['Warehouse'] = self.apply(lambda _: '', axis=1)\n",
    "        self['Location'] = self.apply(lambda _: '', axis=1)\n",
    "        self['From'] = self['QTYAMOUNT']\n",
    "        self['To'] = self.apply(lambda _: '', axis=1)\n",
    "        self['Unit'] = 'Pcs'\n",
    "        self['Amount in currency'] = self['VOLUMEPRICE']\n",
    "        self['From date'] = datetime.today().strftime('%d.%m.%Y')\n",
    "        self['To date'] = self.apply(lambda _: '', axis=1)\n",
    "        self['Currency'] = self.apply(lambda _: '', axis=1)\n",
    "        self['Price charges'] = '0'\n",
    "        self['Price unit'] = '1'\n",
    "        self['Discount percentage 1'] = '0'\n",
    "        self['Discount percentage 2'] = '0'\n",
    "        self['Lead time'] = '0'\n",
    "        self['Working days'] = 'No'\n",
    "        self['Disregard lead time'] = 'Yes'\n",
    "        self['Include generic currency'] = 'No'\n",
    "        self['Find next'] = 'Yes'\n",
    "        return self\n",
    "        \n",
    "    def change_values(self): # changes dynamic version values\n",
    "        self['Item relation'] = self['PARTNUM'].map(str)    \n",
    "        todate = timedelta(days=1095)\n",
    "        TA_expire = datetime.today() + todate\n",
    "        self['To date'] = TA_expire.strftime('%d.%m.%Y')\n",
    "        curr = str(list(set(df['CURR'].values))[0])\n",
    "        curr = curr.replace('Dollar', 'USD').replace('Euro', 'EUR').replace('GBPound', 'GBP').replace('Krona', 'SEK')\n",
    "        self['Account selection'] = \"{}{}-NEW\".format(getyear, curr) #autamated Price Group NAME\n",
    "        self['Currency'] = curr\n",
    "        return self\n",
    "        \n",
    "    def change_index(self): # changes index to recatlulate Line number\n",
    "        self = self.reset_index(drop=True)\n",
    "        self.index = self.index + 1\n",
    "        self['Line number'] = self.index\n",
    "        return self\n",
    "        \n",
    "    def drop_col(self): # drops excess columns\n",
    "        cols = ['Price/discount journal number', 'Line number', 'Relation', 'Account code', 'Account selection', \n",
    "                'Item code', 'Item relation', 'Configuration', 'Site', 'Warehouse', 'Location', 'From', 'To', 'Unit',\n",
    "                'Amount in currency', 'From date', 'To date', 'Currency', 'Price charges', 'Price unit', \n",
    "                'Discount percentage 1', 'Discount percentage 2', 'Lead time', 'Working days', 'Disregard lead time', \n",
    "                'Include generic currency', 'Find next']\n",
    "        for column in self.columns:\n",
    "            if column not in cols:\n",
    "                self = self.drop([column], axis=1)\n",
    "                print(column, '\\t\\tdeleted')\n",
    "        return self\n",
    "         \n",
    "    def save_ta(self):\n",
    "        curr = str(list(set(df['CURR'].values))[0])\n",
    "        curr = curr.replace('Dollar', 'USD').replace('Euro', 'EUR').replace('GBPound', 'GBP').replace('Krona', 'SEK')\n",
    "        file_suffix = \"{}{}-NEW\".format(getyear, curr)\n",
    "        try:\n",
    "            self.to_excel(f'{dir_path}\\TA_{file_suffix}.xlsx', \n",
    "                index=False)\n",
    "        except FileExistsError:\n",
    "            print('File exists')"
   ]
  },
  {
   "cell_type": "code",
   "execution_count": 31,
   "metadata": {},
   "outputs": [],
   "source": [
    "pd.options.mode.chained_assignment = None  # default='warn'"
   ]
  },
  {
   "cell_type": "code",
   "execution_count": null,
   "metadata": {},
   "outputs": [],
   "source": [
    "for files in os.listdir(dir_path):\n",
    "    if files.endswith('.xls'): \n",
    "        df = pd.read_excel(\"{}\\{}\".format(dir_path, files), engine='xlrd', dtype={'PARTNUM':str, 'QTYAMOUNT':str})\n",
    "        ta = TradeAgreement(df)\n",
    "        ta = TradeAgreement.select(ta)\n",
    "        ta = TradeAgreement.set_columns(ta)\n",
    "        ta = TradeAgreement.change_values(ta)\n",
    "        ta = TradeAgreement.change_index(ta)\n",
    "        ta = TradeAgreement.drop_col(ta)\n",
    "        TradeAgreement.save_ta(ta)\n",
    "    else:\n",
    "        continue"
   ]
  },
  {
   "cell_type": "markdown",
   "metadata": {},
   "source": [
    "## Semi-Automates Test "
   ]
  },
  {
   "cell_type": "code",
   "execution_count": 33,
   "metadata": {},
   "outputs": [],
   "source": [
    "user = os.getcwd()"
   ]
  },
  {
   "cell_type": "code",
   "execution_count": 34,
   "metadata": {},
   "outputs": [],
   "source": [
    "user = user.replace('C:\\\\Users\\\\', '')"
   ]
  },
  {
   "cell_type": "code",
   "execution_count": null,
   "metadata": {},
   "outputs": [],
   "source": [
    "user"
   ]
  },
  {
   "cell_type": "markdown",
   "metadata": {},
   "source": [
    "#### TO DO:\n",
    "* sample size 3-5 per file\n",
    "* volume price items\n",
    "* loop: item, volume, price"
   ]
  },
  {
   "cell_type": "code",
   "execution_count": 37,
   "metadata": {},
   "outputs": [],
   "source": [
    "class SampleData(pd.DataFrame):\n",
    "    '''Creates sample.'''\n",
    "    def __init__(self, df, *args, **kwargs):\n",
    "        pd.DataFrame.__init__(self, df, *args, **kwargs)\n",
    "        \n",
    "    def select(self):\n",
    "        self = self[['Item relation', 'From', 'Amount in currency', 'Currency']]\n",
    "        self = self[self['From'] != 1]\n",
    "        self = self.iloc[np.random.randint(low=0, high=int(self.shape[0]), size=int(self.shape[0]/600))]\n",
    "        return self\n",
    "        \n",
    "    def check_price(self):  \n",
    "        for i in self['Item relation']:\n",
    "            webbrowser.open_new('https://www.thorlabs.com/thorproduct.cfm?partnumber={}'.format(i))\n",
    "            print('\\nItem: ', i)\n",
    "            print('Currency: ', self[self['Item relation']==i]['Currency'].item())\n",
    "            print('Vol.: ', self[self['Item relation']==i]['From'].item())\n",
    "            print('Price: ', self[self['Item relation']==i]['Amount in currency'].item())\n",
    "            if str(input('Is it correct on the page (y/n)? ')) == 'y':\n",
    "                continue\n",
    "            else:\n",
    "                print('Error! correct the file!')\n",
    "                break"
   ]
  },
  {
   "cell_type": "code",
   "execution_count": null,
   "metadata": {},
   "outputs": [],
   "source": [
    "dir_path"
   ]
  },
  {
   "cell_type": "code",
   "execution_count": null,
   "metadata": {},
   "outputs": [],
   "source": [
    "print(os.listdir(dir_path))"
   ]
  },
  {
   "cell_type": "code",
   "execution_count": null,
   "metadata": {},
   "outputs": [],
   "source": [
    "# print [y] enter to continue 3 items per file or [n] enter to stop cheking current file\n",
    "\n",
    "for files in os.listdir(dir_path):\n",
    "    if files.endswith('.xlsx'): \n",
    "        df = pd.read_excel(\"{}\\{}\".format(dir_path, files))\n",
    "        sample = SampleData(df)\n",
    "        sample = SampleData.select(sample)\n",
    "        SampleData.check_price(sample)\n",
    "        "
   ]
  }
 ],
 "metadata": {
  "kernelspec": {
   "display_name": "Python 3",
   "language": "python",
   "name": "python3"
  },
  "language_info": {
   "codemirror_mode": {
    "name": "ipython",
    "version": 3
   },
   "file_extension": ".py",
   "mimetype": "text/x-python",
   "name": "python",
   "nbconvert_exporter": "python",
   "pygments_lexer": "ipython3",
   "version": "3.8.8"
  }
 },
 "nbformat": 4,
 "nbformat_minor": 2
}
